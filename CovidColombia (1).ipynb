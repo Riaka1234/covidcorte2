{
  "nbformat": 4,
  "nbformat_minor": 0,
  "metadata": {
    "colab": {
      "name": "CovidColombia.ipynb",
      "provenance": [],
      "collapsed_sections": []
    },
    "kernelspec": {
      "name": "python3",
      "display_name": "Python 3"
    }
  },
  "cells": [
    {
      "cell_type": "code",
      "metadata": {
        "id": "GlCDt8tgqKzU",
        "outputId": "f7612b2e-3044-4f87-e119-68e5240bd690",
        "colab": {
          "base_uri": "https://localhost:8080/"
        }
      },
      "source": [
        "!pip install geopandas"
      ],
      "execution_count": 2,
      "outputs": [
        {
          "output_type": "stream",
          "text": [
            "Collecting geopandas\n",
            "\u001b[?25l  Downloading https://files.pythonhosted.org/packages/f7/a4/e66aafbefcbb717813bf3a355c8c4fc3ed04ea1dd7feb2920f2f4f868921/geopandas-0.8.1-py2.py3-none-any.whl (962kB)\n",
            "\u001b[K     |████████████████████████████████| 972kB 2.8MB/s \n",
            "\u001b[?25hCollecting fiona\n",
            "\u001b[?25l  Downloading https://files.pythonhosted.org/packages/36/8b/e8b2c11bed5373c8e98edb85ce891b09aa1f4210fd451d0fb3696b7695a2/Fiona-1.8.17-cp36-cp36m-manylinux1_x86_64.whl (14.8MB)\n",
            "\u001b[K     |████████████████████████████████| 14.8MB 297kB/s \n",
            "\u001b[?25hCollecting pyproj>=2.2.0\n",
            "\u001b[?25l  Downloading https://files.pythonhosted.org/packages/e5/c3/071e080230ac4b6c64f1a2e2f9161c9737a2bc7b683d2c90b024825000c0/pyproj-2.6.1.post1-cp36-cp36m-manylinux2010_x86_64.whl (10.9MB)\n",
            "\u001b[K     |████████████████████████████████| 10.9MB 37.9MB/s \n",
            "\u001b[?25hRequirement already satisfied: shapely in /usr/local/lib/python3.6/dist-packages (from geopandas) (1.7.1)\n",
            "Requirement already satisfied: pandas>=0.23.0 in /usr/local/lib/python3.6/dist-packages (from geopandas) (1.1.3)\n",
            "Collecting click-plugins>=1.0\n",
            "  Downloading https://files.pythonhosted.org/packages/e9/da/824b92d9942f4e472702488857914bdd50f73021efea15b4cad9aca8ecef/click_plugins-1.1.1-py2.py3-none-any.whl\n",
            "Requirement already satisfied: click<8,>=4.0 in /usr/local/lib/python3.6/dist-packages (from fiona->geopandas) (7.1.2)\n",
            "Requirement already satisfied: attrs>=17 in /usr/local/lib/python3.6/dist-packages (from fiona->geopandas) (20.2.0)\n",
            "Collecting cligj>=0.5\n",
            "  Downloading https://files.pythonhosted.org/packages/ba/06/e3440b1f2dc802d35f329f299ba96153e9fcbfdef75e17f4b61f79430c6a/cligj-0.7.0-py3-none-any.whl\n",
            "Collecting munch\n",
            "  Downloading https://files.pythonhosted.org/packages/cc/ab/85d8da5c9a45e072301beb37ad7f833cd344e04c817d97e0cc75681d248f/munch-2.5.0-py2.py3-none-any.whl\n",
            "Requirement already satisfied: six>=1.7 in /usr/local/lib/python3.6/dist-packages (from fiona->geopandas) (1.15.0)\n",
            "Requirement already satisfied: numpy>=1.15.4 in /usr/local/lib/python3.6/dist-packages (from pandas>=0.23.0->geopandas) (1.18.5)\n",
            "Requirement already satisfied: pytz>=2017.2 in /usr/local/lib/python3.6/dist-packages (from pandas>=0.23.0->geopandas) (2018.9)\n",
            "Requirement already satisfied: python-dateutil>=2.7.3 in /usr/local/lib/python3.6/dist-packages (from pandas>=0.23.0->geopandas) (2.8.1)\n",
            "Installing collected packages: click-plugins, cligj, munch, fiona, pyproj, geopandas\n",
            "Successfully installed click-plugins-1.1.1 cligj-0.7.0 fiona-1.8.17 geopandas-0.8.1 munch-2.5.0 pyproj-2.6.1.post1\n"
          ],
          "name": "stdout"
        }
      ]
    },
    {
      "cell_type": "code",
      "metadata": {
        "id": "6bTufrJP4I_L"
      },
      "source": [
        "%matplotlib inline\n",
        "import requests\n",
        "import ogr\n",
        "from shapely.geometry import Polygon, MultiPolygon, shape\n",
        "import geopandas as gpd\n",
        "import pandas as pd\n",
        "import numpy as np\n",
        "import matplotlib.pyplot as plt\n",
        "import IPython.display as display\n",
        "import gdal\n",
        "import io \n",
        "import json\n",
        "import plotly.express as px\n"
      ],
      "execution_count": 3,
      "outputs": []
    },
    {
      "cell_type": "code",
      "metadata": {
        "id": "rXgBWjZUywJ-",
        "outputId": "cdeb5805-719f-47c0-def5-2ce9fb732221",
        "colab": {
          "base_uri": "https://localhost:8080/",
          "height": 643
        }
      },
      "source": [
        "data= pd.read_csv('covidColombia.csv',dtype={\"ID de caso\":\"string\",\"Fecha de notificación\":\"string\",\"Código DIVIPOLA\":\"string\",\"Ciudad de ubicación\":\"string\",\"Departamento o Distrito \":\"string\",\"atención\":\"string\",\"Edad\":\"int\",\"Sexo\":\"string\",\"Tipo\":\"string\",\"Estado\":\"string\",\"País de procedencia\":\"string\",\"FIS\":\"string\",\"Fecha de muerte\":\"string\",\"Fecha diagnostico\":\"string\",\"Fecha recuperado\":\"string\",\"fecha reporte web\":\"string\",\"Tipo recuperación\":\"string\",\"Codigo departamento\":\"string\",\"Codigo pais\":\"string\",\"Pertenencia etnica\":\"string\",\"Nombre grupo etnico\":\"string\"})\n",
        "data"
      ],
      "execution_count": 4,
      "outputs": [
        {
          "output_type": "execute_result",
          "data": {
            "text/html": [
              "<div>\n",
              "<style scoped>\n",
              "    .dataframe tbody tr th:only-of-type {\n",
              "        vertical-align: middle;\n",
              "    }\n",
              "\n",
              "    .dataframe tbody tr th {\n",
              "        vertical-align: top;\n",
              "    }\n",
              "\n",
              "    .dataframe thead th {\n",
              "        text-align: right;\n",
              "    }\n",
              "</style>\n",
              "<table border=\"1\" class=\"dataframe\">\n",
              "  <thead>\n",
              "    <tr style=\"text-align: right;\">\n",
              "      <th></th>\n",
              "      <th>ID de caso</th>\n",
              "      <th>Fecha de notificación</th>\n",
              "      <th>Código DIVIPOLA</th>\n",
              "      <th>Ciudad de ubicación</th>\n",
              "      <th>Departamento o Distrito</th>\n",
              "      <th>atención</th>\n",
              "      <th>Edad</th>\n",
              "      <th>Sexo</th>\n",
              "      <th>Tipo</th>\n",
              "      <th>Estado</th>\n",
              "      <th>País de procedencia</th>\n",
              "      <th>FIS</th>\n",
              "      <th>Fecha de muerte</th>\n",
              "      <th>Fecha diagnostico</th>\n",
              "      <th>Fecha recuperado</th>\n",
              "      <th>fecha reporte web</th>\n",
              "      <th>Tipo recuperación</th>\n",
              "      <th>Codigo departamento</th>\n",
              "      <th>Codigo pais</th>\n",
              "      <th>Pertenencia etnica</th>\n",
              "      <th>Nombre grupo etnico</th>\n",
              "    </tr>\n",
              "  </thead>\n",
              "  <tbody>\n",
              "    <tr>\n",
              "      <th>0</th>\n",
              "      <td>1</td>\n",
              "      <td>2020-03-02T00:00:00.000</td>\n",
              "      <td>11001</td>\n",
              "      <td>Bogotá D.C.</td>\n",
              "      <td>Bogotá D.C.</td>\n",
              "      <td>Recuperado</td>\n",
              "      <td>19</td>\n",
              "      <td>F</td>\n",
              "      <td>Importado</td>\n",
              "      <td>Leve</td>\n",
              "      <td>ITALIA</td>\n",
              "      <td>2020-02-27T00:00:00.000</td>\n",
              "      <td>&lt;NA&gt;</td>\n",
              "      <td>2020-03-06T00:00:00.000</td>\n",
              "      <td>2020-03-13T00:00:00.000</td>\n",
              "      <td>2020-03-06T00:00:00.000</td>\n",
              "      <td>PCR</td>\n",
              "      <td>11</td>\n",
              "      <td>380</td>\n",
              "      <td>Otro</td>\n",
              "      <td>&lt;NA&gt;</td>\n",
              "    </tr>\n",
              "    <tr>\n",
              "      <th>1</th>\n",
              "      <td>2</td>\n",
              "      <td>2020-03-06T00:00:00.000</td>\n",
              "      <td>76111</td>\n",
              "      <td>Guadalajara de Buga</td>\n",
              "      <td>Valle del Cauca</td>\n",
              "      <td>Recuperado</td>\n",
              "      <td>34</td>\n",
              "      <td>M</td>\n",
              "      <td>Importado</td>\n",
              "      <td>Leve</td>\n",
              "      <td>ESPAÑA</td>\n",
              "      <td>2020-03-04T00:00:00.000</td>\n",
              "      <td>&lt;NA&gt;</td>\n",
              "      <td>2020-03-09T00:00:00.000</td>\n",
              "      <td>2020-03-19T00:00:00.000</td>\n",
              "      <td>2020-03-09T00:00:00.000</td>\n",
              "      <td>PCR</td>\n",
              "      <td>76</td>\n",
              "      <td>724</td>\n",
              "      <td>Negro</td>\n",
              "      <td>&lt;NA&gt;</td>\n",
              "    </tr>\n",
              "    <tr>\n",
              "      <th>2</th>\n",
              "      <td>3</td>\n",
              "      <td>2020-03-07T00:00:00.000</td>\n",
              "      <td>05001</td>\n",
              "      <td>Medellín</td>\n",
              "      <td>Antioquia</td>\n",
              "      <td>Recuperado</td>\n",
              "      <td>50</td>\n",
              "      <td>F</td>\n",
              "      <td>Importado</td>\n",
              "      <td>Leve</td>\n",
              "      <td>ESPAÑA</td>\n",
              "      <td>2020-02-29T00:00:00.000</td>\n",
              "      <td>&lt;NA&gt;</td>\n",
              "      <td>2020-03-09T00:00:00.000</td>\n",
              "      <td>2020-03-15T00:00:00.000</td>\n",
              "      <td>2020-03-09T00:00:00.000</td>\n",
              "      <td>PCR</td>\n",
              "      <td>5</td>\n",
              "      <td>724</td>\n",
              "      <td>Otro</td>\n",
              "      <td>&lt;NA&gt;</td>\n",
              "    </tr>\n",
              "    <tr>\n",
              "      <th>3</th>\n",
              "      <td>4</td>\n",
              "      <td>2020-03-09T00:00:00.000</td>\n",
              "      <td>05001</td>\n",
              "      <td>Medellín</td>\n",
              "      <td>Antioquia</td>\n",
              "      <td>Recuperado</td>\n",
              "      <td>55</td>\n",
              "      <td>M</td>\n",
              "      <td>Relacionado</td>\n",
              "      <td>Leve</td>\n",
              "      <td>&lt;NA&gt;</td>\n",
              "      <td>2020-03-06T00:00:00.000</td>\n",
              "      <td>&lt;NA&gt;</td>\n",
              "      <td>2020-03-11T00:00:00.000</td>\n",
              "      <td>2020-03-26T00:00:00.000</td>\n",
              "      <td>2020-03-11T00:00:00.000</td>\n",
              "      <td>PCR</td>\n",
              "      <td>5</td>\n",
              "      <td>&lt;NA&gt;</td>\n",
              "      <td>Otro</td>\n",
              "      <td>&lt;NA&gt;</td>\n",
              "    </tr>\n",
              "    <tr>\n",
              "      <th>4</th>\n",
              "      <td>5</td>\n",
              "      <td>2020-03-09T00:00:00.000</td>\n",
              "      <td>05001</td>\n",
              "      <td>Medellín</td>\n",
              "      <td>Antioquia</td>\n",
              "      <td>Recuperado</td>\n",
              "      <td>25</td>\n",
              "      <td>M</td>\n",
              "      <td>Relacionado</td>\n",
              "      <td>Leve</td>\n",
              "      <td>&lt;NA&gt;</td>\n",
              "      <td>2020-03-08T00:00:00.000</td>\n",
              "      <td>&lt;NA&gt;</td>\n",
              "      <td>2020-03-11T00:00:00.000</td>\n",
              "      <td>2020-03-23T00:00:00.000</td>\n",
              "      <td>2020-03-11T00:00:00.000</td>\n",
              "      <td>PCR</td>\n",
              "      <td>5</td>\n",
              "      <td>&lt;NA&gt;</td>\n",
              "      <td>Otro</td>\n",
              "      <td>&lt;NA&gt;</td>\n",
              "    </tr>\n",
              "    <tr>\n",
              "      <th>...</th>\n",
              "      <td>...</td>\n",
              "      <td>...</td>\n",
              "      <td>...</td>\n",
              "      <td>...</td>\n",
              "      <td>...</td>\n",
              "      <td>...</td>\n",
              "      <td>...</td>\n",
              "      <td>...</td>\n",
              "      <td>...</td>\n",
              "      <td>...</td>\n",
              "      <td>...</td>\n",
              "      <td>...</td>\n",
              "      <td>...</td>\n",
              "      <td>...</td>\n",
              "      <td>...</td>\n",
              "      <td>...</td>\n",
              "      <td>...</td>\n",
              "      <td>...</td>\n",
              "      <td>...</td>\n",
              "      <td>...</td>\n",
              "      <td>...</td>\n",
              "    </tr>\n",
              "    <tr>\n",
              "      <th>51207</th>\n",
              "      <td>51248</td>\n",
              "      <td>2020-06-10T00:00:00.000</td>\n",
              "      <td>11001</td>\n",
              "      <td>Bogotá D.C.</td>\n",
              "      <td>Bogotá D.C.</td>\n",
              "      <td>Recuperado</td>\n",
              "      <td>26</td>\n",
              "      <td>M</td>\n",
              "      <td>En estudio</td>\n",
              "      <td>Leve</td>\n",
              "      <td>&lt;NA&gt;</td>\n",
              "      <td>2020-06-06T00:00:00.000</td>\n",
              "      <td>&lt;NA&gt;</td>\n",
              "      <td>2020-06-15T00:00:00.000</td>\n",
              "      <td>2020-07-09T00:00:00.000</td>\n",
              "      <td>2020-06-15T00:00:00.000</td>\n",
              "      <td>PCR</td>\n",
              "      <td>11</td>\n",
              "      <td>&lt;NA&gt;</td>\n",
              "      <td>Otro</td>\n",
              "      <td>&lt;NA&gt;</td>\n",
              "    </tr>\n",
              "    <tr>\n",
              "      <th>51208</th>\n",
              "      <td>51249</td>\n",
              "      <td>2020-06-10T00:00:00.000</td>\n",
              "      <td>11001</td>\n",
              "      <td>Bogotá D.C.</td>\n",
              "      <td>Bogotá D.C.</td>\n",
              "      <td>Recuperado</td>\n",
              "      <td>54</td>\n",
              "      <td>M</td>\n",
              "      <td>En estudio</td>\n",
              "      <td>Leve</td>\n",
              "      <td>&lt;NA&gt;</td>\n",
              "      <td>2020-06-01T00:00:00.000</td>\n",
              "      <td>&lt;NA&gt;</td>\n",
              "      <td>2020-06-15T00:00:00.000</td>\n",
              "      <td>2020-06-24T00:00:00.000</td>\n",
              "      <td>2020-06-15T00:00:00.000</td>\n",
              "      <td>PCR</td>\n",
              "      <td>11</td>\n",
              "      <td>&lt;NA&gt;</td>\n",
              "      <td>Otro</td>\n",
              "      <td>&lt;NA&gt;</td>\n",
              "    </tr>\n",
              "    <tr>\n",
              "      <th>51209</th>\n",
              "      <td>51250</td>\n",
              "      <td>2020-06-11T00:00:00.000</td>\n",
              "      <td>11001</td>\n",
              "      <td>Bogotá D.C.</td>\n",
              "      <td>Bogotá D.C.</td>\n",
              "      <td>Recuperado</td>\n",
              "      <td>35</td>\n",
              "      <td>F</td>\n",
              "      <td>En estudio</td>\n",
              "      <td>Leve</td>\n",
              "      <td>&lt;NA&gt;</td>\n",
              "      <td>2020-06-06T00:00:00.000</td>\n",
              "      <td>&lt;NA&gt;</td>\n",
              "      <td>2020-06-15T00:00:00.000</td>\n",
              "      <td>2020-07-02T00:00:00.000</td>\n",
              "      <td>2020-06-15T00:00:00.000</td>\n",
              "      <td>PCR</td>\n",
              "      <td>11</td>\n",
              "      <td>&lt;NA&gt;</td>\n",
              "      <td>Otro</td>\n",
              "      <td>&lt;NA&gt;</td>\n",
              "    </tr>\n",
              "    <tr>\n",
              "      <th>51210</th>\n",
              "      <td>51251</td>\n",
              "      <td>2020-06-10T00:00:00.000</td>\n",
              "      <td>11001</td>\n",
              "      <td>Bogotá D.C.</td>\n",
              "      <td>Bogotá D.C.</td>\n",
              "      <td>Recuperado</td>\n",
              "      <td>55</td>\n",
              "      <td>F</td>\n",
              "      <td>En estudio</td>\n",
              "      <td>Leve</td>\n",
              "      <td>&lt;NA&gt;</td>\n",
              "      <td>2020-06-03T00:00:00.000</td>\n",
              "      <td>&lt;NA&gt;</td>\n",
              "      <td>2020-06-15T00:00:00.000</td>\n",
              "      <td>2020-07-17T00:00:00.000</td>\n",
              "      <td>2020-06-15T00:00:00.000</td>\n",
              "      <td>PCR</td>\n",
              "      <td>11</td>\n",
              "      <td>&lt;NA&gt;</td>\n",
              "      <td>Otro</td>\n",
              "      <td>&lt;NA&gt;</td>\n",
              "    </tr>\n",
              "    <tr>\n",
              "      <th>51211</th>\n",
              "      <td>51252</td>\n",
              "      <td>2020-06-11T00:00:00.000</td>\n",
              "      <td>11001</td>\n",
              "      <td>Bogotá D.C.</td>\n",
              "      <td>Bogotá D.C.</td>\n",
              "      <td>Recuperado</td>\n",
              "      <td>30</td>\n",
              "      <td>M</td>\n",
              "      <td>&lt;NA&gt;</td>\n",
              "      <td>&lt;NA&gt;</td>\n",
              "      <td>&lt;NA&gt;</td>\n",
              "      <td>&lt;NA&gt;</td>\n",
              "      <td>&lt;NA&gt;</td>\n",
              "      <td>&lt;NA&gt;</td>\n",
              "      <td>&lt;NA&gt;</td>\n",
              "      <td>&lt;NA&gt;</td>\n",
              "      <td>&lt;NA&gt;</td>\n",
              "      <td>&lt;NA&gt;</td>\n",
              "      <td>&lt;NA&gt;</td>\n",
              "      <td>&lt;NA&gt;</td>\n",
              "      <td>&lt;NA&gt;</td>\n",
              "    </tr>\n",
              "  </tbody>\n",
              "</table>\n",
              "<p>51212 rows × 21 columns</p>\n",
              "</div>"
            ],
            "text/plain": [
              "      ID de caso  ... Nombre grupo etnico\n",
              "0              1  ...                <NA>\n",
              "1              2  ...                <NA>\n",
              "2              3  ...                <NA>\n",
              "3              4  ...                <NA>\n",
              "4              5  ...                <NA>\n",
              "...          ...  ...                 ...\n",
              "51207      51248  ...                <NA>\n",
              "51208      51249  ...                <NA>\n",
              "51209      51250  ...                <NA>\n",
              "51210      51251  ...                <NA>\n",
              "51211      51252  ...                <NA>\n",
              "\n",
              "[51212 rows x 21 columns]"
            ]
          },
          "metadata": {
            "tags": []
          },
          "execution_count": 4
        }
      ]
    },
    {
      "cell_type": "code",
      "metadata": {
        "id": "COG2p4tla8x_",
        "outputId": "f3ef63a5-b7a6-4630-abcd-606eb3572df0",
        "colab": {
          "base_uri": "https://localhost:8080/",
          "height": 195
        }
      },
      "source": [
        "natalidad = \"colombia.geojson\"\n",
        "map_data = gpd.read_file(natalidad)\n",
        "map_data.head()\n"
      ],
      "execution_count": null,
      "outputs": [
        {
          "output_type": "execute_result",
          "data": {
            "text/html": [
              "<div>\n",
              "<style scoped>\n",
              "    .dataframe tbody tr th:only-of-type {\n",
              "        vertical-align: middle;\n",
              "    }\n",
              "\n",
              "    .dataframe tbody tr th {\n",
              "        vertical-align: top;\n",
              "    }\n",
              "\n",
              "    .dataframe thead th {\n",
              "        text-align: right;\n",
              "    }\n",
              "</style>\n",
              "<table border=\"1\" class=\"dataframe\">\n",
              "  <thead>\n",
              "    <tr style=\"text-align: right;\">\n",
              "      <th></th>\n",
              "      <th>id</th>\n",
              "      <th>dpt</th>\n",
              "      <th>name</th>\n",
              "      <th>geometry</th>\n",
              "    </tr>\n",
              "  </thead>\n",
              "  <tbody>\n",
              "    <tr>\n",
              "      <th>0</th>\n",
              "      <td>44847</td>\n",
              "      <td>LA GUAJIRA</td>\n",
              "      <td>URIBIA</td>\n",
              "      <td>POLYGON ((-57.35945 49.46833, -57.36140 49.497...</td>\n",
              "    </tr>\n",
              "    <tr>\n",
              "      <th>1</th>\n",
              "      <td>44560</td>\n",
              "      <td>LA GUAJIRA</td>\n",
              "      <td>MANAURE</td>\n",
              "      <td>POLYGON ((-57.86866 49.71805, -57.86476 49.706...</td>\n",
              "    </tr>\n",
              "    <tr>\n",
              "      <th>2</th>\n",
              "      <td>44430</td>\n",
              "      <td>LA GUAJIRA</td>\n",
              "      <td>MAICAO</td>\n",
              "      <td>POLYGON ((-57.80037 49.41098, -57.60137 49.396...</td>\n",
              "    </tr>\n",
              "    <tr>\n",
              "      <th>3</th>\n",
              "      <td>44001</td>\n",
              "      <td>LA GUAJIRA</td>\n",
              "      <td>RIOHACHA</td>\n",
              "      <td>POLYGON ((-58.39152 49.37029, -58.36031 49.294...</td>\n",
              "    </tr>\n",
              "    <tr>\n",
              "      <th>4</th>\n",
              "      <td>44090</td>\n",
              "      <td>LA GUAJIRA</td>\n",
              "      <td>DIBULLA</td>\n",
              "      <td>POLYGON ((-59.21874 49.40543, -59.20703 49.351...</td>\n",
              "    </tr>\n",
              "  </tbody>\n",
              "</table>\n",
              "</div>"
            ],
            "text/plain": [
              "      id  ...                                           geometry\n",
              "0  44847  ...  POLYGON ((-57.35945 49.46833, -57.36140 49.497...\n",
              "1  44560  ...  POLYGON ((-57.86866 49.71805, -57.86476 49.706...\n",
              "2  44430  ...  POLYGON ((-57.80037 49.41098, -57.60137 49.396...\n",
              "3  44001  ...  POLYGON ((-58.39152 49.37029, -58.36031 49.294...\n",
              "4  44090  ...  POLYGON ((-59.21874 49.40543, -59.20703 49.351...\n",
              "\n",
              "[5 rows x 4 columns]"
            ]
          },
          "metadata": {
            "tags": []
          },
          "execution_count": 19
        }
      ]
    },
    {
      "cell_type": "code",
      "metadata": {
        "id": "tUj81PaObD71",
        "outputId": "79c582e9-bf0e-4dff-8ac7-06756ab5523a",
        "colab": {
          "base_uri": "https://localhost:8080/",
          "height": 282
        }
      },
      "source": [
        "map_data.plot()\n"
      ],
      "execution_count": null,
      "outputs": [
        {
          "output_type": "execute_result",
          "data": {
            "text/plain": [
              "<matplotlib.axes._subplots.AxesSubplot at 0x7f21d83c1cc0>"
            ]
          },
          "metadata": {
            "tags": []
          },
          "execution_count": 20
        },
        {
          "output_type": "display_data",
          "data": {
            "image/png": "[encoded data removed]",
            "text/plain": [
              "<Figure size 432x288 with 1 Axes>"
            ]
          },
          "metadata": {
            "tags": [],
            "needs_background": "light"
          }
        }
      ]
    },
    {
      "cell_type": "code",
      "metadata": {
        "id": "S9g8tVjJ8FEU",
        "outputId": "afa78fc7-2832-48ec-f7c8-4afb78ccdf25",
        "colab": {
          "base_uri": "https://localhost:8080/",
          "height": 195
        }
      },
      "source": [
        ""
      ],
      "execution_count": null,
      "outputs": [
        {
          "output_type": "execute_result",
          "data": {
            "text/html": [
              "<div>\n",
              "<style scoped>\n",
              "    .dataframe tbody tr th:only-of-type {\n",
              "        vertical-align: middle;\n",
              "    }\n",
              "\n",
              "    .dataframe tbody tr th {\n",
              "        vertical-align: top;\n",
              "    }\n",
              "\n",
              "    .dataframe thead th {\n",
              "        text-align: right;\n",
              "    }\n",
              "</style>\n",
              "<table border=\"1\" class=\"dataframe\">\n",
              "  <thead>\n",
              "    <tr style=\"text-align: right;\">\n",
              "      <th></th>\n",
              "      <th>id</th>\n",
              "      <th>dpt</th>\n",
              "      <th>name</th>\n",
              "      <th>geometry</th>\n",
              "    </tr>\n",
              "  </thead>\n",
              "  <tbody>\n",
              "    <tr>\n",
              "      <th>0</th>\n",
              "      <td>44847</td>\n",
              "      <td>LA GUAJIRA</td>\n",
              "      <td>URIBIA</td>\n",
              "      <td>POLYGON ((-57.35945 49.46833, -57.36140 49.497...</td>\n",
              "    </tr>\n",
              "    <tr>\n",
              "      <th>1</th>\n",
              "      <td>44560</td>\n",
              "      <td>LA GUAJIRA</td>\n",
              "      <td>MANAURE</td>\n",
              "      <td>POLYGON ((-57.86866 49.71805, -57.86476 49.706...</td>\n",
              "    </tr>\n",
              "    <tr>\n",
              "      <th>2</th>\n",
              "      <td>44430</td>\n",
              "      <td>LA GUAJIRA</td>\n",
              "      <td>MAICAO</td>\n",
              "      <td>POLYGON ((-57.80037 49.41098, -57.60137 49.396...</td>\n",
              "    </tr>\n",
              "    <tr>\n",
              "      <th>3</th>\n",
              "      <td>44001</td>\n",
              "      <td>LA GUAJIRA</td>\n",
              "      <td>RIOHACHA</td>\n",
              "      <td>POLYGON ((-58.39152 49.37029, -58.36031 49.294...</td>\n",
              "    </tr>\n",
              "    <tr>\n",
              "      <th>4</th>\n",
              "      <td>44090</td>\n",
              "      <td>LA GUAJIRA</td>\n",
              "      <td>DIBULLA</td>\n",
              "      <td>POLYGON ((-59.21874 49.40543, -59.20703 49.351...</td>\n",
              "    </tr>\n",
              "  </tbody>\n",
              "</table>\n",
              "</div>"
            ],
            "text/plain": [
              "      id  ...                                           geometry\n",
              "0  44847  ...  POLYGON ((-57.35945 49.46833, -57.36140 49.497...\n",
              "1  44560  ...  POLYGON ((-57.86866 49.71805, -57.86476 49.706...\n",
              "2  44430  ...  POLYGON ((-57.80037 49.41098, -57.60137 49.396...\n",
              "3  44001  ...  POLYGON ((-58.39152 49.37029, -58.36031 49.294...\n",
              "4  44090  ...  POLYGON ((-59.21874 49.40543, -59.20703 49.351...\n",
              "\n",
              "[5 rows x 4 columns]"
            ]
          },
          "metadata": {
            "tags": []
          },
          "execution_count": 40
        }
      ]
    },
    {
      "cell_type": "code",
      "metadata": {
        "id": "1AAVp4kt-7uG"
      },
      "source": [
        "def get_data():\n",
        "  data = gpd.read_file(natalidad)\n",
        "  data.head()\n",
        "  return data"
      ],
      "execution_count": null,
      "outputs": []
    },
    {
      "cell_type": "code",
      "metadata": {
        "id": "yJKL2viK6ATP"
      },
      "source": [
        "\n",
        "data_amz = get_data()\n",
        "amz = data_amz['geometry']\n",
        "for idx, val in enumerate(data_amz['dpt']): \n",
        "  if val != \"AMAZONAS\":\n",
        "   amz.pop(idx)\n",
        "\n"
      ],
      "execution_count": null,
      "outputs": []
    },
    {
      "cell_type": "code",
      "metadata": {
        "id": "-11RORgB8lKU"
      },
      "source": [
        "data_gua = get_data()\n",
        "gua = data_gua['geometry']\n",
        "for idx, val in enumerate(data_gua['dpt']): \n",
        "  if val != \"LA GUAJIRA\":\n",
        "   gua.pop(idx)\n"
      ],
      "execution_count": null,
      "outputs": []
    },
    {
      "cell_type": "code",
      "metadata": {
        "id": "5rCbS-4_9s85"
      },
      "source": [
        "data_mag = get_data()\n",
        "mag = data_mag['geometry']\n",
        "for idx, val in enumerate(data_mag['dpt']): \n",
        "  if val != \"MAGDALENA\":\n",
        "   mag.pop(idx)\n"
      ],
      "execution_count": null,
      "outputs": []
    },
    {
      "cell_type": "code",
      "metadata": {
        "id": "ZNNswNqT-q28"
      },
      "source": [
        "data_atl = get_data()\n",
        "atl = data_atl['geometry'] \n",
        "for idx, val in enumerate(data_atl['dpt']): \n",
        "  if val != \"ATLANTICO\": \n",
        "    atl.pop(idx)"
      ],
      "execution_count": null,
      "outputs": []
    },
    {
      "cell_type": "code",
      "metadata": {
        "id": "WgLrUPZ3AHfa"
      },
      "source": [
        "data_nar = get_data()\n",
        "nar = data_nar['geometry'] \n",
        "for idx, val in enumerate(data_nar['dpt']): \n",
        "  if val != \"NARIÑO\": \n",
        "    nar.pop(idx)"
      ],
      "execution_count": null,
      "outputs": []
    },
    {
      "cell_type": "code",
      "metadata": {
        "id": "G0ffZZopAo8z"
      },
      "source": [
        "data_caq = get_data()\n",
        "caq = data_caq['geometry'] \n",
        "for idx, val in enumerate(data_caq['dpt']): \n",
        "  if val != \"CAQUETA\": \n",
        "    caq.pop(idx)"
      ],
      "execution_count": null,
      "outputs": []
    },
    {
      "cell_type": "code",
      "metadata": {
        "id": "45J4k-vUBH3M"
      },
      "source": [
        "data = get_data()\n",
        "cau = data['geometry'] \n",
        "for idx, val in enumerate(data['dpt']): \n",
        "  if val != \"CAUCA\": \n",
        "    cau.pop(idx)"
      ],
      "execution_count": null,
      "outputs": []
    },
    {
      "cell_type": "code",
      "metadata": {
        "id": "2vRUUdW3BpoL"
      },
      "source": [
        "data = get_data()\n",
        "meta = data['geometry'] \n",
        "for idx, val in enumerate(data['dpt']): \n",
        "  if val != \"META\": \n",
        "    meta.pop(idx)"
      ],
      "execution_count": null,
      "outputs": []
    },
    {
      "cell_type": "code",
      "metadata": {
        "id": "Ep3rdZ4OCLVS"
      },
      "source": [
        "data = get_data()\n",
        "ant = data['geometry'] \n",
        "for idx, val in enumerate(data['dpt']): \n",
        "  if val != \"ANTIOQUIA\": \n",
        "    ant.pop(idx)"
      ],
      "execution_count": null,
      "outputs": []
    },
    {
      "cell_type": "code",
      "metadata": {
        "id": "LaMTnz5uCpSj"
      },
      "source": [
        "data = get_data()\n",
        "cun = data['geometry'] \n",
        "for idx, val in enumerate(data['dpt']): \n",
        "  if val != \"CUNDINAMARCA\": \n",
        "    cun.pop(idx)"
      ],
      "execution_count": null,
      "outputs": []
    },
    {
      "cell_type": "code",
      "metadata": {
        "id": "4UypAVFHDonr"
      },
      "source": [
        "data = get_data()\n",
        "san = data['geometry'] \n",
        "for idx, val in enumerate(data['dpt']): \n",
        "  if val != \"SANTANDER\": \n",
        "    san.pop(idx)"
      ],
      "execution_count": null,
      "outputs": []
    },
    {
      "cell_type": "code",
      "metadata": {
        "id": "-_NAttuOEDpW"
      },
      "source": [
        "data = get_data()\n",
        "hui = data['geometry'] \n",
        "for idx, val in enumerate(data['dpt']): \n",
        "  if val != \"HUILA\": \n",
        "    hui.pop(idx)"
      ],
      "execution_count": null,
      "outputs": []
    },
    {
      "cell_type": "code",
      "metadata": {
        "id": "B0HTFzvUEafj"
      },
      "source": [
        "data = get_data()\n",
        "boy = data['geometry'] \n",
        "for idx, val in enumerate(data['dpt']): \n",
        "  if val != \"BOYACA\": \n",
        "    boy.pop(idx)"
      ],
      "execution_count": null,
      "outputs": []
    },
    {
      "cell_type": "code",
      "metadata": {
        "id": "NRCVpUKmEwWI"
      },
      "source": [
        "data = get_data()\n",
        "nsan = data['geometry'] \n",
        "for idx, val in enumerate(data['dpt']): \n",
        "  if val != \"NORTE DE SANTANDER\": \n",
        "    nsan.pop(idx)"
      ],
      "execution_count": null,
      "outputs": []
    },
    {
      "cell_type": "code",
      "metadata": {
        "id": "h013lwAiFYTj"
      },
      "source": [
        "data = get_data()\n",
        "bol = data['geometry'] \n",
        "for idx, val in enumerate(data['dpt']): \n",
        "  if val != \"BOLIVAR\": \n",
        "    bol.pop(idx)"
      ],
      "execution_count": null,
      "outputs": []
    },
    {
      "cell_type": "code",
      "metadata": {
        "id": "H0zFKnmRFzcb"
      },
      "source": [
        "data = get_data()\n",
        "ces = data['geometry'] \n",
        "for idx, val in enumerate(data['dpt']): \n",
        "  if val != \"CESAR\": \n",
        "    ces.pop(idx)"
      ],
      "execution_count": null,
      "outputs": []
    },
    {
      "cell_type": "code",
      "metadata": {
        "id": "OJxkMZ9zGaar"
      },
      "source": [
        "data = get_data()\n",
        "suc = data['geometry'] \n",
        "for idx, val in enumerate(data['dpt']): \n",
        "  if val != \"SUCRE\": \n",
        "    suc.pop(idx)"
      ],
      "execution_count": null,
      "outputs": []
    },
    {
      "cell_type": "code",
      "metadata": {
        "id": "O44Mh0YJGyeS"
      },
      "source": [
        "data = get_data()\n",
        "cor = data['geometry'] \n",
        "for idx, val in enumerate(data['dpt']): \n",
        "  if val != \"CORDOBA\": \n",
        "    cor.pop(idx)"
      ],
      "execution_count": null,
      "outputs": []
    },
    {
      "cell_type": "code",
      "metadata": {
        "id": "quAzCS_VHR7c"
      },
      "source": [
        "data = get_data()\n",
        "vdc = data['geometry'] \n",
        "for idx, val in enumerate(data['dpt']): \n",
        "  if val != \"VALLE DEL CAUCA\": \n",
        "    vdc.pop(idx)"
      ],
      "execution_count": null,
      "outputs": []
    },
    {
      "cell_type": "code",
      "metadata": {
        "id": "PJ-AWeN6Hs_y"
      },
      "source": [
        "data = get_data()\n",
        "tol = data['geometry'] \n",
        "for idx, val in enumerate(data['dpt']): \n",
        "  if val != \"TOLIMA\": \n",
        "    tol.pop(idx)"
      ],
      "execution_count": null,
      "outputs": []
    },
    {
      "cell_type": "code",
      "metadata": {
        "id": "NYz9l1i3IOCf"
      },
      "source": [
        "data = get_data()\n",
        "choc = data['geometry'] \n",
        "for idx, val in enumerate(data['dpt']): \n",
        "  if val != \"CHOCO\": \n",
        "    choc.pop(idx)"
      ],
      "execution_count": null,
      "outputs": []
    },
    {
      "cell_type": "code",
      "metadata": {
        "id": "zkzUox-tIja3"
      },
      "source": [
        "data = get_data()\n",
        "ara = data['geometry'] \n",
        "for idx, val in enumerate(data['dpt']): \n",
        "  if val != \"ARAUCA\": \n",
        "    ara.pop(idx)"
      ],
      "execution_count": null,
      "outputs": []
    },
    {
      "cell_type": "code",
      "metadata": {
        "id": "GpxI57k4JFW5"
      },
      "source": [
        "data = get_data()\n",
        "put = data['geometry'] \n",
        "for idx, val in enumerate(data['dpt']): \n",
        "  if val != \"PUTUMAYO\": \n",
        "    put.pop(idx)"
      ],
      "execution_count": null,
      "outputs": []
    },
    {
      "cell_type": "code",
      "metadata": {
        "id": "H0iFGeb2JblK"
      },
      "source": [
        "data = get_data()\n",
        "cas = data['geometry'] \n",
        "for idx, val in enumerate(data['dpt']): \n",
        "  if val != \"CASANARE\": \n",
        "    cas.pop(idx)"
      ],
      "execution_count": null,
      "outputs": []
    },
    {
      "cell_type": "code",
      "metadata": {
        "id": "5WF2Crl1J1wN"
      },
      "source": [
        "data = get_data()\n",
        "cal = data['geometry'] \n",
        "for idx, val in enumerate(data['dpt']): \n",
        "  if val != \"CALDAS\": \n",
        "    cal.pop(idx)"
      ],
      "execution_count": null,
      "outputs": []
    },
    {
      "cell_type": "code",
      "metadata": {
        "id": "xJrDt1j3KOEC"
      },
      "source": [
        "data = get_data()\n",
        "ris = data['geometry'] \n",
        "for idx, val in enumerate(data['dpt']): \n",
        "  if val != \"RISARALDA\": \n",
        "    ris.pop(idx)"
      ],
      "execution_count": null,
      "outputs": []
    },
    {
      "cell_type": "code",
      "metadata": {
        "id": "hmzDleVZKpml"
      },
      "source": [
        "data = get_data()\n",
        "quin = data['geometry'] \n",
        "for idx, val in enumerate(data['dpt']): \n",
        "  if val != \"QUINDIO\": \n",
        "    quin.pop(idx)"
      ],
      "execution_count": null,
      "outputs": []
    },
    {
      "cell_type": "code",
      "metadata": {
        "id": "_fMP9XTqLQ8Y"
      },
      "source": [
        "data = get_data()\n",
        "guai = data['geometry'] \n",
        "for idx, val in enumerate(data['dpt']): \n",
        "  if val != \"GUAINIA\": \n",
        "    guai.pop(idx)"
      ],
      "execution_count": null,
      "outputs": []
    },
    {
      "cell_type": "code",
      "metadata": {
        "id": "Jho_50t4LnhY"
      },
      "source": [
        "data = get_data()\n",
        "guav = data['geometry'] \n",
        "for idx, val in enumerate(data['dpt']): \n",
        "  if val != \"GUAVIARE\": \n",
        "    guav.pop(idx)"
      ],
      "execution_count": null,
      "outputs": []
    },
    {
      "cell_type": "code",
      "metadata": {
        "id": "lDrZ4tWJL-Kc"
      },
      "source": [
        "data = get_data()\n",
        "vich = data['geometry'] \n",
        "for idx, val in enumerate(data['dpt']): \n",
        "  if val != \"VICHADA\": \n",
        "    vich.pop(idx)"
      ],
      "execution_count": null,
      "outputs": []
    },
    {
      "cell_type": "code",
      "metadata": {
        "id": "zFhy8hLIMCsx"
      },
      "source": [
        "data = get_data()\n",
        "vau = data['geometry'] \n",
        "for idx, val in enumerate(data['dpt']): \n",
        "  if val != \"VAUPES\": \n",
        "    vau.pop(idx)"
      ],
      "execution_count": null,
      "outputs": []
    },
    {
      "cell_type": "code",
      "metadata": {
        "id": "ZcM7158H4BHQ",
        "outputId": "fb7b508e-ede6-4e65-b2e2-95663a1f8a2b",
        "colab": {
          "base_uri": "https://localhost:8080/",
          "height": 282
        }
      },
      "source": [
        "ax = map_data.plot()\n",
        "gamz = gpd.GeoDataFrame(\n",
        "    amz\n",
        ")\n",
        "\n",
        "ggua = gpd.GeoDataFrame(\n",
        "    gua\n",
        ")\n",
        "\n",
        "gmag = gpd.GeoDataFrame(\n",
        "    mag\n",
        ")\n",
        "gatl = gpd.GeoDataFrame(\n",
        "    atl\n",
        ")\n",
        "gnar = gpd.GeoDataFrame(\n",
        "    nar\n",
        ")\n",
        "gcaq = gpd.GeoDataFrame(\n",
        "    caq\n",
        ")\n",
        "gcau = gpd.GeoDataFrame(\n",
        "    cau\n",
        ")\n",
        "gmeta = gpd.GeoDataFrame(\n",
        "    meta\n",
        ")\n",
        "gant = gpd.GeoDataFrame(\n",
        "    ant\n",
        ")\n",
        "gcun = gpd.GeoDataFrame(\n",
        "    cun\n",
        ")\n",
        "gsan = gpd.GeoDataFrame(\n",
        "    san\n",
        ")\n",
        "ghui = gpd.GeoDataFrame(\n",
        "    hui\n",
        ")\n",
        "gboy = gpd.GeoDataFrame(\n",
        "    boy\n",
        ")\n",
        "gnsan = gpd.GeoDataFrame(\n",
        "    nsan\n",
        ")\n",
        "gbol = gpd.GeoDataFrame(\n",
        "    bol\n",
        ")\n",
        "gces = gpd.GeoDataFrame(\n",
        "    ces\n",
        ")\n",
        "gsuc = gpd.GeoDataFrame(\n",
        "    suc\n",
        ")\n",
        "gcor = gpd.GeoDataFrame(\n",
        "    cor\n",
        ")\n",
        "gvdc = gpd.GeoDataFrame(\n",
        "    vdc\n",
        ")\n",
        "gtol = gpd.GeoDataFrame(\n",
        "    tol\n",
        ")\n",
        "gchoc = gpd.GeoDataFrame(\n",
        "    choc\n",
        ")\n",
        "gara = gpd.GeoDataFrame(\n",
        "    ara\n",
        ")\n",
        "gput = gpd.GeoDataFrame(\n",
        "    put\n",
        ")\n",
        "gcas = gpd.GeoDataFrame(\n",
        "    cas\n",
        ")\n",
        "gcal = gpd.GeoDataFrame(\n",
        "    cal\n",
        ")\n",
        "gris = gpd.GeoDataFrame(\n",
        "    ris\n",
        ")\n",
        "gquin = gpd.GeoDataFrame(\n",
        "    quin\n",
        ")\n",
        "gguai = gpd.GeoDataFrame(\n",
        "    guai\n",
        ")\n",
        "gguav = gpd.GeoDataFrame(\n",
        "    guav\n",
        ")\n",
        "gvich = gpd.GeoDataFrame(\n",
        "    vich\n",
        ")\n",
        "gvau = gpd.GeoDataFrame(\n",
        "    vau\n",
        ")\n",
        "\n",
        "\n",
        "gvau.plot(ax=ax, color=\"lightsalmon\")\n",
        "gvich.plot(ax=ax, color=\"snow\")\n",
        "gguav.plot(ax=ax, color=\"forestgreen\")\n",
        "gguai.plot(ax=ax, color=\"crimson\")\n",
        "gquin.plot(ax=ax, color=\"peru\")\n",
        "gris.plot(ax=ax, color=\"aquamarine\")\n",
        "gcal.plot(ax=ax, color=\"maroon\")\n",
        "gcas.plot(ax=ax, color=\"skyblue\")\n",
        "gput.plot(ax=ax, color=\"tomato\")\n",
        "gara.plot(ax=ax, color=\"khaki\")\n",
        "gchoc.plot(ax=ax, color=\"black\")\n",
        "gtol.plot(ax=ax, color=\"steelblue\")\n",
        "gvdc.plot(ax=ax, color=\"yellow\")\n",
        "gcor.plot(ax=ax, color=\"honeydew\")\n",
        "gsuc.plot(ax=ax, color=\"silver\")\n",
        "gces.plot(ax=ax, color=\"azure\")\n",
        "gbol.plot(ax=ax, color=\"rosybrown\")\n",
        "gnsan.plot(ax=ax, color=\"yellowgreen\")\n",
        "gboy.plot(ax=ax, color=\"sienna\")\n",
        "ghui.plot(ax=ax, color=\"orange\")\n",
        "gsan.plot(ax=ax, color=\"darkgreen\")\n",
        "gcun.plot(ax=ax, color=\"darkblue\")\n",
        "gant.plot(ax=ax, color=\"purple\")\n",
        "gmeta.plot(ax=ax, color=\"olivedrab\")\n",
        "gcau.plot(ax=ax, color=\"firebrick\")\n",
        "gcaq.plot(ax=ax, color=\"darkslategray\")\n",
        "gnar.plot(ax=ax, color=\"blueviolet\")\n",
        "gatl.plot(ax=ax, color=\"gold\")\n",
        "gmag.plot(ax=ax, color=\"pink\")\n",
        "ggua.plot(ax=ax, color=\"green\")\n",
        "gamz.plot(ax = ax, color=\"red\")"
      ],
      "execution_count": null,
      "outputs": [
        {
          "output_type": "execute_result",
          "data": {
            "text/plain": [
              "<matplotlib.axes._subplots.AxesSubplot at 0x7f21cc70e550>"
            ]
          },
          "metadata": {
            "tags": []
          },
          "execution_count": 181
        },
        {
          "output_type": "display_data",
          "data": {
            "image/png": "[encoded data removed]",
            "text/plain": [
              "<Figure size 432x288 with 1 Axes>"
            ]
          },
          "metadata": {
            "tags": [],
            "needs_background": "light"
          }
        }
      ]
    },
    {
      "cell_type": "code",
      "metadata": {
        "id": "PxihIfyjOAG7",
        "outputId": "3e3eb60a-fdc1-460c-bbe4-77d10bd1040f",
        "colab": {
          "base_uri": "https://localhost:8080/",
          "height": 586
        }
      },
      "source": [
        "df=pd.DataFrame(data)\n",
        "df.rename(columns={'ID de caso':'numero de casos'},inplace=True)\n",
        "df.groupby('Departamento o Distrito ')['numero de casos'].count().plot(kind='bar',legend=\"Reverse\",xlabel=\"departamentos\",ylabel=\"# de casos\" ,color=[\"lightsalmon\",\"snow\",\"forestgreen\",\"crimson\",\"peru\",\"aquamarine\",\"maroon\",\"skyblue\",\"tomato\",\"khaki\"])\n",
        "\n",
        "plt.title(\"casos por departamento\")"
      ],
      "execution_count": 8,
      "outputs": [
        {
          "output_type": "execute_result",
          "data": {
            "text/plain": [
              "Text(0.5, 1.0, 'casos por departamento')"
            ]
          },
          "metadata": {
            "tags": []
          },
          "execution_count": 8
        },
        {
          "output_type": "display_data",
          "data": {
            "image/png": "[encoded data removed]",
            "text/plain": [
              "<Figure size 432x288 with 1 Axes>"
            ]
          },
          "metadata": {
            "tags": [],
            "needs_background": "light"
          }
        }
      ]
    }
  ]
}